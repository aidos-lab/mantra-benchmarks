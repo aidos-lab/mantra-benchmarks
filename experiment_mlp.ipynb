{
 "cells": [
  {
   "cell_type": "code",
   "execution_count": 1,
   "metadata": {
    "ExecuteTime": {
     "end_time": "2024-04-25T17:47:32.798261Z",
     "start_time": "2024-04-25T17:47:19.035622Z"
    }
   },
   "outputs": [],
   "source": [
    "from torch_geometric.loader import DataLoader, ImbalancedSampler\n",
    "from torch_geometric.transforms import FaceToEdge, OneHotDegree\n",
    "import torchvision.transforms as transforms\n",
    "\n",
    "from mantra.simplicial import SimplicialDataset\n",
    "from mantra.transforms import (\n",
    "    TriangulationToFaceTransform,\n",
    "    OrientableToClassTransform,\n",
    "    DegreeTransform,\n",
    ")\n",
    "from validation.validate_homology import validate_betti_numbers\n",
    "\n",
    "import torch"
   ]
  },
  {
   "cell_type": "markdown",
   "metadata": {},
   "source": []
  },
  {
   "cell_type": "code",
   "execution_count": 2,
   "metadata": {},
   "outputs": [
    {
     "name": "stdout",
     "output_type": "stream",
     "text": [
      "\n",
      "Dataset: SimplicialDataset(712):\n",
      "====================\n",
      "Number of graphs: 712\n",
      "Number of features: 9\n"
     ]
    },
    {
     "name": "stderr",
     "output_type": "stream",
     "text": [
      "c:\\Users\\Ernst\\AppData\\Local\\Programs\\Python\\Python310\\lib\\site-packages\\torch_geometric\\data\\storage.py:450: UserWarning: Unable to accurately infer 'num_nodes' from the attribute set '{'name', 'face', 'orientable', 'torsion_coefficients', 'dimension', 'betti_numbers', 'genus', 'n_vertices'}'. Please explicitly set 'num_nodes' as an attribute of 'data' to suppress this warning\n",
      "  warnings.warn(\n"
     ]
    },
    {
     "name": "stdout",
     "output_type": "stream",
     "text": [
      "Number of classes: 2\n",
      "\n",
      "Data(dimension=[1], n_vertices=[1], torsion_coefficients=[3], betti_numbers=[3], orientable=[1], genus=[1], name='S^2', face=[3, 4], edge_index=[2, 12], x=[4, 9], y=[1])\n",
      "=============================================================\n",
      "Number of nodes: 4\n",
      "Number of edges: 12\n",
      "Average node degree: 3.00\n",
      "Has isolated nodes: False\n",
      "Has self-loops: False\n",
      "Is undirected: True\n",
      "=============================================================\n",
      "Number of orientable Manifolds: 193\n",
      "Number of non-orientable Manifolds: 519\n",
      "Percentage: 0.27, 0.73\n"
     ]
    }
   ],
   "source": [
    "tr = transforms.Compose(\n",
    "    [\n",
    "        TriangulationToFaceTransform(),\n",
    "        FaceToEdge(remove_faces=False),\n",
    "        DegreeTransform(),\n",
    "        OrientableToClassTransform(),\n",
    "        OneHotDegree(max_degree=8,cat=False)\n",
    "    ]\n",
    ")\n",
    "\n",
    "dataset = SimplicialDataset(root=\"./data\", transform=tr)\n",
    "\n",
    "\n",
    "print()\n",
    "print(f\"Dataset: {dataset}:\")\n",
    "print(\"====================\")\n",
    "print(f\"Number of graphs: {len(dataset)}\")\n",
    "print(f\"Number of features: {dataset.num_features}\")\n",
    "print(f\"Number of classes: {dataset.num_classes}\")\n",
    "\n",
    "data = dataset[0]  # Get the first graph object.\n",
    "\n",
    "print()\n",
    "print(data)\n",
    "print(\"=============================================================\")\n",
    "\n",
    "# Gather some statistics about the first graph.\n",
    "print(f\"Number of nodes: {len(data.x)}\")\n",
    "print(f\"Number of edges: {data.num_edges}\")\n",
    "print(f\"Average node degree: {data.num_edges / len(data.x):.2f}\")\n",
    "print(f\"Has isolated nodes: {data.has_isolated_nodes()}\")\n",
    "print(f\"Has self-loops: {data.has_self_loops()}\")\n",
    "print(f\"Is undirected: {data.is_undirected()}\")\n",
    "\n",
    "print(\"=============================================================\")\n",
    "print(f\"Number of orientable Manifolds: {sum(dataset.orientable)}\")\n",
    "print(\n",
    "    f\"Number of non-orientable Manifolds: {len(dataset) - sum(dataset.orientable)}\"\n",
    ")\n",
    "print(\n",
    "    f\"Percentage: {sum(dataset.orientable) / len(dataset):.2f}, {(len(dataset) - sum(dataset.orientable)) / len(dataset):.2f}\"\n",
    ")"
   ]
  },
  {
   "cell_type": "code",
   "execution_count": 7,
   "metadata": {},
   "outputs": [
    {
     "name": "stderr",
     "output_type": "stream",
     "text": [
      "c:\\Users\\Ernst\\AppData\\Local\\Programs\\Python\\Python310\\lib\\site-packages\\torch_geometric\\data\\storage.py:450: UserWarning: Unable to accurately infer 'num_nodes' from the attribute set '{'name', 'face', 'orientable', 'torsion_coefficients', 'dimension', 'betti_numbers', 'genus', 'n_vertices'}'. Please explicitly set 'num_nodes' as an attribute of 'data' to suppress this warning\n",
      "  warnings.warn(\n"
     ]
    },
    {
     "data": {
      "text/plain": [
       "tensor([ True,  True,  True, False,  True,  True,  True, False,  True, False,\n",
       "        False,  True,  True,  True,  True,  True,  True, False,  True, False,\n",
       "        False, False,  True, False, False, False, False, False, False, False,\n",
       "        False, False, False, False,  True,  True,  True,  True,  True, False,\n",
       "        False, False,  True,  True,  True, False,  True,  True,  True,  True,\n",
       "        False, False,  True, False,  True,  True,  True,  True,  True,  True,\n",
       "         True, False,  True,  True,  True,  True, False, False, False, False,\n",
       "         True,  True,  True, False, False, False, False, False, False, False,\n",
       "         True, False, False, False, False, False, False, False, False, False,\n",
       "        False, False, False, False, False, False, False, False,  True,  True,\n",
       "         True, False, False, False, False, False, False,  True, False, False,\n",
       "         True,  True,  True, False, False,  True, False, False, False, False,\n",
       "        False, False, False, False, False,  True,  True, False, False, False,\n",
       "         True, False, False, False, False, False, False,  True, False, False,\n",
       "        False, False, False,  True,  True, False,  True,  True,  True,  True,\n",
       "        False, False, False, False, False, False, False, False, False, False,\n",
       "        False,  True,  True,  True, False, False, False, False, False, False,\n",
       "        False, False,  True,  True,  True, False, False,  True,  True,  True,\n",
       "         True,  True, False, False,  True, False, False, False, False, False,\n",
       "        False, False, False, False, False, False, False, False, False, False,\n",
       "        False, False, False, False, False, False, False, False, False, False,\n",
       "        False, False, False, False, False, False, False, False, False, False,\n",
       "        False, False, False, False, False, False,  True,  True, False, False,\n",
       "        False, False, False, False, False, False, False, False, False,  True,\n",
       "        False, False, False, False, False, False, False, False, False, False,\n",
       "        False, False, False, False, False, False, False, False, False, False,\n",
       "        False, False, False, False, False, False, False, False, False, False,\n",
       "        False, False, False, False, False, False, False, False, False, False,\n",
       "        False, False, False, False, False, False, False, False, False, False,\n",
       "        False, False, False, False, False, False, False, False, False, False,\n",
       "        False, False, False, False, False, False, False, False, False, False,\n",
       "        False, False, False, False, False, False, False, False, False, False,\n",
       "        False, False, False, False, False, False, False, False, False, False,\n",
       "         True,  True, False, False, False, False, False, False, False, False,\n",
       "        False, False, False, False, False, False, False, False, False, False,\n",
       "         True,  True,  True,  True,  True, False, False, False, False, False,\n",
       "        False, False, False, False, False, False,  True,  True,  True,  True,\n",
       "         True, False, False, False,  True, False, False, False,  True, False,\n",
       "        False, False,  True, False, False, False, False, False, False, False,\n",
       "        False,  True,  True,  True, False, False, False, False, False, False,\n",
       "        False, False, False, False, False, False, False, False, False, False,\n",
       "        False, False, False, False, False, False, False, False, False, False,\n",
       "        False, False, False, False, False, False, False, False, False, False,\n",
       "        False, False,  True, False, False,  True, False, False,  True,  True,\n",
       "         True, False, False, False, False, False, False,  True,  True, False,\n",
       "        False,  True, False, False, False, False, False, False, False, False,\n",
       "        False,  True,  True, False, False, False, False, False, False, False,\n",
       "        False, False, False, False, False,  True,  True,  True,  True,  True,\n",
       "         True, False, False, False, False, False,  True,  True,  True,  True,\n",
       "         True, False, False, False,  True,  True,  True,  True,  True,  True,\n",
       "         True,  True, False, False,  True, False, False,  True,  True,  True,\n",
       "        False,  True,  True,  True,  True, False, False, False, False,  True,\n",
       "        False, False, False, False, False, False, False, False,  True,  True,\n",
       "         True,  True,  True,  True,  True,  True, False, False, False, False,\n",
       "        False, False, False, False, False, False, False, False, False, False,\n",
       "        False, False, False, False, False, False, False, False, False, False,\n",
       "        False, False, False, False, False, False, False, False, False,  True,\n",
       "         True, False, False, False, False, False, False,  True,  True, False,\n",
       "        False, False, False, False, False, False,  True,  True, False, False,\n",
       "        False, False, False, False, False, False, False, False, False, False,\n",
       "        False, False, False, False, False, False, False, False, False, False,\n",
       "        False, False,  True,  True,  True, False, False, False, False, False,\n",
       "         True,  True,  True, False, False,  True,  True,  True,  True,  True,\n",
       "        False, False, False,  True,  True,  True,  True,  True,  True,  True,\n",
       "         True, False, False, False, False, False,  True, False,  True, False,\n",
       "         True, False, False, False,  True,  True,  True, False, False, False,\n",
       "        False, False, False, False, False,  True, False, False, False,  True,\n",
       "         True, False, False, False, False,  True, False, False, False, False,\n",
       "        False, False, False, False, False, False,  True,  True,  True,  True,\n",
       "         True,  True,  True,  True,  True,  True,  True, False,  True, False,\n",
       "        False, False, False, False, False,  True,  True,  True,  True, False,\n",
       "         True,  True])"
      ]
     },
     "execution_count": 7,
     "metadata": {},
     "output_type": "execute_result"
    }
   ],
   "source": [
    "torch.tensor([data.y for data in dataset])"
   ]
  },
  {
   "cell_type": "code",
   "execution_count": 8,
   "metadata": {},
   "outputs": [
    {
     "name": "stdout",
     "output_type": "stream",
     "text": [
      "Number of training graphs: 562\n",
      "Number of test graphs: 150\n"
     ]
    }
   ],
   "source": [
    "dataset = dataset.shuffle()\n",
    "\n",
    "train_dataset = dataset[:-150]\n",
    "test_dataset = dataset[-150:]\n",
    "\n",
    "print(f\"Number of training graphs: {len(train_dataset)}\")\n",
    "print(f\"Number of test graphs: {len(test_dataset)}\")\n"
   ]
  },
  {
   "cell_type": "code",
   "execution_count": 20,
   "metadata": {},
   "outputs": [
    {
     "name": "stderr",
     "output_type": "stream",
     "text": [
      "c:\\Users\\Ernst\\AppData\\Local\\Programs\\Python\\Python310\\lib\\site-packages\\torch_geometric\\data\\storage.py:450: UserWarning: Unable to accurately infer 'num_nodes' from the attribute set '{'betti_numbers', 'face', 'n_vertices', 'name', 'dimension', 'orientable', 'torsion_coefficients', 'genus'}'. Please explicitly set 'num_nodes' as an attribute of 'data' to suppress this warning\n",
      "  warnings.warn(\n"
     ]
    },
    {
     "data": {
      "text/plain": [
       "tensor([1, 1, 0, 0, 1, 1, 0, 0, 0, 1])"
      ]
     },
     "execution_count": 20,
     "metadata": {},
     "output_type": "execute_result"
    }
   ],
   "source": [
    "train_loader = DataLoader(train_dataset,batch_size=10)#,sampler=ImbalancedSampler(train_dataset))\n",
    "test_loader = DataLoader(test_dataset,batch_size=10)\n",
    "\n",
    "\n",
    "for batch in train_loader:\n",
    "    break\n",
    "\n",
    "batch.y"
   ]
  },
  {
   "cell_type": "code",
   "execution_count": 10,
   "metadata": {},
   "outputs": [],
   "source": [
    "from torch.nn import Linear\n",
    "import torch.nn.functional as F\n",
    "import torch.nn as nn\n",
    "from torch_geometric.nn import GCNConv\n",
    "from torch_geometric.nn import global_mean_pool\n",
    "from torch_scatter import segment_coo\n",
    "\n",
    "class PermInvariant(torch.nn.Module):\n",
    "    def __init__(self, hidden_channels):\n",
    "        super().__init__()\n",
    "        # torch.manual_seed(12345)\n",
    "        self.classification = nn.Sequential( \n",
    "            nn.Linear(9,hidden_channels),\n",
    "            nn.ReLU(),\n",
    "            nn.Linear(hidden_channels,hidden_channels),\n",
    "            nn.ReLU(),\n",
    "            nn.Linear(hidden_channels,2),\n",
    "            nn.ReLU()\n",
    "        )\n",
    "\n",
    "    def forward(self, batch):\n",
    "        x = self.classification(batch.x)\n",
    "        # print(batch.x)\n",
    "        # print(x)\n",
    "        return segment_coo(x,batch.batch,reduce=\"sum\")\n",
    "\n",
    "\n",
    "model = PermInvariant(hidden_channels=64)\n"
   ]
  },
  {
   "cell_type": "code",
   "execution_count": 12,
   "metadata": {},
   "outputs": [
    {
     "name": "stdout",
     "output_type": "stream",
     "text": [
      "Epoch: 001, Train Acc: 0.7313, Test Acc: 0.7200\n",
      "Epoch: 002, Train Acc: 0.7384, Test Acc: 0.7333\n",
      "Epoch: 003, Train Acc: 0.7811, Test Acc: 0.7600\n",
      "Epoch: 004, Train Acc: 0.8025, Test Acc: 0.7800\n",
      "Epoch: 005, Train Acc: 0.7972, Test Acc: 0.7733\n",
      "Epoch: 006, Train Acc: 0.7972, Test Acc: 0.7733\n",
      "Epoch: 007, Train Acc: 0.7900, Test Acc: 0.7667\n",
      "Epoch: 008, Train Acc: 0.7918, Test Acc: 0.7667\n",
      "Epoch: 009, Train Acc: 0.7865, Test Acc: 0.7667\n",
      "Epoch: 010, Train Acc: 0.7794, Test Acc: 0.7600\n",
      "Epoch: 011, Train Acc: 0.7794, Test Acc: 0.7600\n",
      "Epoch: 012, Train Acc: 0.7811, Test Acc: 0.7600\n",
      "Epoch: 013, Train Acc: 0.7811, Test Acc: 0.7600\n",
      "Epoch: 014, Train Acc: 0.7794, Test Acc: 0.7600\n",
      "Epoch: 015, Train Acc: 0.7811, Test Acc: 0.7600\n",
      "Epoch: 016, Train Acc: 0.7811, Test Acc: 0.7600\n",
      "Epoch: 017, Train Acc: 0.7811, Test Acc: 0.7600\n",
      "Epoch: 018, Train Acc: 0.7811, Test Acc: 0.7600\n",
      "Epoch: 019, Train Acc: 0.7811, Test Acc: 0.7600\n",
      "Epoch: 020, Train Acc: 0.7811, Test Acc: 0.7600\n",
      "Epoch: 021, Train Acc: 0.7811, Test Acc: 0.7600\n",
      "Epoch: 022, Train Acc: 0.7811, Test Acc: 0.7600\n",
      "Epoch: 023, Train Acc: 0.7811, Test Acc: 0.7600\n",
      "Epoch: 024, Train Acc: 0.7811, Test Acc: 0.7600\n",
      "Epoch: 025, Train Acc: 0.7811, Test Acc: 0.7600\n",
      "Epoch: 026, Train Acc: 0.7811, Test Acc: 0.7600\n",
      "Epoch: 027, Train Acc: 0.7811, Test Acc: 0.7600\n",
      "Epoch: 028, Train Acc: 0.7811, Test Acc: 0.7600\n",
      "Epoch: 029, Train Acc: 0.7811, Test Acc: 0.7600\n",
      "Epoch: 030, Train Acc: 0.7829, Test Acc: 0.7667\n",
      "Epoch: 031, Train Acc: 0.7829, Test Acc: 0.7667\n",
      "Epoch: 032, Train Acc: 0.7811, Test Acc: 0.7600\n",
      "Epoch: 033, Train Acc: 0.7829, Test Acc: 0.7667\n",
      "Epoch: 034, Train Acc: 0.7829, Test Acc: 0.7667\n",
      "Epoch: 035, Train Acc: 0.7829, Test Acc: 0.7667\n",
      "Epoch: 036, Train Acc: 0.7829, Test Acc: 0.7667\n",
      "Epoch: 037, Train Acc: 0.7829, Test Acc: 0.7667\n",
      "Epoch: 038, Train Acc: 0.7829, Test Acc: 0.7667\n",
      "Epoch: 039, Train Acc: 0.7829, Test Acc: 0.7667\n"
     ]
    }
   ],
   "source": [
    "model = PermInvariant(hidden_channels=64)\n",
    "optimizer = torch.optim.Adam(model.parameters(), lr=0.001)\n",
    "criterion = torch.nn.CrossEntropyLoss()\n",
    "\n",
    "\n",
    "def train():\n",
    "    model.train()\n",
    "\n",
    "    for data in train_loader:  # Iterate in batches over the training dataset.\n",
    "        out = model(data\n",
    "        )  # Perform a single forward pass.\n",
    "        loss = criterion(out, data.y)  # Compute the loss.\n",
    "        loss.backward()  # Derive gradients.\n",
    "        optimizer.step()  # Update parameters based on gradients.\n",
    "        optimizer.zero_grad()  # Clear gradients.\n",
    "\n",
    "\n",
    "def test(loader):\n",
    "    model.eval()\n",
    "\n",
    "    correct = 0\n",
    "    for data in loader:  # Iterate in batches over the training/test dataset.\n",
    "        out = model(data)\n",
    "        pred = out.argmax(dim=1)  # Use the class with highest probability.\n",
    "        correct += int(\n",
    "            (pred == data.y).sum()\n",
    "        )  # Check against ground-truth labels.\n",
    "    return correct / len(\n",
    "        loader.dataset\n",
    "    )  # Derive ratio of correct predictions.\n",
    "\n",
    "\n",
    "for epoch in range(1, 40):\n",
    "    train()\n",
    "    train_acc = test(train_loader)\n",
    "    test_acc = test(test_loader)\n",
    "    print(\n",
    "        f\"Epoch: {epoch:03d}, Train Acc: {train_acc:.4f}, Test Acc: {test_acc:.4f}\"\n",
    "    )"
   ]
  },
  {
   "cell_type": "code",
   "execution_count": 7,
   "metadata": {},
   "outputs": [
    {
     "data": {
      "text/plain": [
       "tensor([0.9635, 0.8106, 0.9215, 0.9906, 1.5490, 1.0627, 1.0325, 1.2307, 1.2846,\n",
       "        2.0083], grad_fn=<SelectBackward0>)"
      ]
     },
     "execution_count": 7,
     "metadata": {},
     "output_type": "execute_result"
    }
   ],
   "source": [
    "model(batch)[:,0]"
   ]
  },
  {
   "cell_type": "code",
   "execution_count": null,
   "metadata": {},
   "outputs": [],
   "source": []
  }
 ],
 "metadata": {
  "kernelspec": {
   "display_name": "Python 3",
   "language": "python",
   "name": "python3"
  },
  "language_info": {
   "codemirror_mode": {
    "name": "ipython",
    "version": 3
   },
   "file_extension": ".py",
   "mimetype": "text/x-python",
   "name": "python",
   "nbconvert_exporter": "python",
   "pygments_lexer": "ipython3",
   "version": "3.10.11"
  }
 },
 "nbformat": 4,
 "nbformat_minor": 2
}
