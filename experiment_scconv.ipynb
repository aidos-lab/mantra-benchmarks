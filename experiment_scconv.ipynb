{
 "cells": [
  {
   "cell_type": "code",
   "outputs": [],
   "source": [
    "import math\n",
    "%load_ext autoreload\n",
    "%autoreload 2"
   ],
   "metadata": {
    "collapsed": false,
    "ExecuteTime": {
     "end_time": "2024-04-26T17:24:32.434796Z",
     "start_time": "2024-04-26T17:24:32.392352Z"
    }
   },
   "id": "e1447e3b250fa124",
   "execution_count": 1
  },
  {
   "cell_type": "code",
   "outputs": [],
   "source": [
    "from mantra.simplicial import SimplicialDataset\n",
    "import torch\n",
    "from torch import nn\n",
    "import torchmetrics\n",
    "import torchvision.transforms as transforms\n",
    "from mantra.transforms import SimplicialComplexTransform\n",
    "from mantra.dataloaders import SimplicialDataLoader\n",
    "from topomodelx.nn.simplicial.scnn import SCNN\n",
    "from torch_geometric.nn import pool\n",
    "import lightning as L\n",
    "from typing import Literal\n",
    "from torch.utils.data import random_split\n",
    "import math\n",
    "from mantra.utils import transfer_simplicial_complex_batch_to_device"
   ],
   "metadata": {
    "collapsed": true,
    "ExecuteTime": {
     "end_time": "2024-04-26T17:39:52.886233Z",
     "start_time": "2024-04-26T17:39:52.773509Z"
    }
   },
   "id": "initial_id",
   "execution_count": 40
  },
  {
   "cell_type": "code",
   "outputs": [],
   "source": [
    "from mantra.transforms import SimplicialComplexDegreeTransform, SimplicialComplexEdgeCoadjacencyDegreeTransform, \\\n",
    "    SimplicialComplexEdgeAdjacencyDegreeTransform, SimplicialComplexTriangleCoadjacencyDegreeTransform, \\\n",
    "    OrientableToClassSimplicialComplexTransform, DimTwoHodgeLaplacianSimplicialComplexTransform, \\\n",
    "    DimOneHodgeLaplacianDownSimplicialComplexTransform, DimOneHodgeLaplacianUpSimplicialComplexTransform, \\\n",
    "    DimZeroHodgeLaplacianSimplicialComplexTransform\n",
    "\n",
    "tr = transforms.Compose(\n",
    "            [SimplicialComplexTransform(), \n",
    "             SimplicialComplexDegreeTransform(),\n",
    "             SimplicialComplexEdgeCoadjacencyDegreeTransform(),\n",
    "             SimplicialComplexEdgeAdjacencyDegreeTransform(),\n",
    "             SimplicialComplexTriangleCoadjacencyDegreeTransform(),\n",
    "             DimZeroHodgeLaplacianSimplicialComplexTransform(),\n",
    "             DimOneHodgeLaplacianUpSimplicialComplexTransform(),\n",
    "             DimOneHodgeLaplacianDownSimplicialComplexTransform(),\n",
    "             DimTwoHodgeLaplacianSimplicialComplexTransform(),\n",
    "             OrientableToClassSimplicialComplexTransform()]\n",
    "        )"
   ],
   "metadata": {
    "collapsed": false,
    "ExecuteTime": {
     "end_time": "2024-04-26T17:24:42.521090Z",
     "start_time": "2024-04-26T17:24:42.398648Z"
    }
   },
   "id": "258c13ed23fc24a9",
   "execution_count": 3
  },
  {
   "cell_type": "code",
   "outputs": [],
   "source": [
    "dataset = SimplicialDataset(root=\"./data\", transform=tr)"
   ],
   "metadata": {
    "collapsed": false,
    "ExecuteTime": {
     "end_time": "2024-04-26T17:25:08.895803Z",
     "start_time": "2024-04-26T17:25:08.759940Z"
    }
   },
   "id": "b7a030f18bfe7035",
   "execution_count": 4
  },
  {
   "cell_type": "markdown",
   "source": [
    "## Train the Neural Network\n",
    "We specify the model with our pre-made neighborhood structures and specify an optimizer."
   ],
   "metadata": {
    "collapsed": false
   },
   "id": "d9f15969d862d021"
  },
  {
   "cell_type": "code",
   "outputs": [],
   "source": [
    "rank = 1  # simplex level. We'll use the features of the rank-simplices.\n",
    "conv_order_down = 2 # TODO: No idea of what this parameter does\n",
    "conv_order_up = 2 # TODO: No idea of what this parameter does\n",
    "hidden_channels = 4\n",
    "out_channels = 1  # num classes\n",
    "num_layers = 3\n",
    "# Check the rank has an appropriate value.\n",
    "assert 0 <= rank <= 2, \"rank must be 0, 1 or 2.\"\n",
    "# select the simplex level\n",
    "if rank == 0:\n",
    "    conv_order_down = 0\n",
    "# configure parameters\n",
    "in_channels = dataset[0].x[rank].shape[1]"
   ],
   "metadata": {
    "collapsed": false,
    "ExecuteTime": {
     "end_time": "2024-04-26T17:25:11.543336Z",
     "start_time": "2024-04-26T17:25:11.414486Z"
    }
   },
   "id": "4253885c6d26b76e",
   "execution_count": 5
  },
  {
   "cell_type": "code",
   "outputs": [],
   "source": [
    "class SCNNNetwork(L.LightningModule):\n",
    "    def __init__(self, rank, in_channels, hidden_channels, out_channels,\n",
    "                 conv_order_down, conv_order_up, n_layers=3):\n",
    "        super().__init__()\n",
    "        self.rank = rank\n",
    "        self.base_model = SCNN(in_channels=in_channels,\n",
    "                               hidden_channels=hidden_channels,\n",
    "                               conv_order_down=conv_order_down, \n",
    "                               conv_order_up=conv_order_up, \n",
    "                               n_layers=n_layers)\n",
    "        self.liner_readout = torch.nn.Linear(hidden_channels, out_channels)\n",
    "        # Accuracy metrics\n",
    "        self.training_accuracy = torchmetrics.classification.BinaryAccuracy()\n",
    "        self.validation_accuracy = torchmetrics.classification.BinaryAccuracy()\n",
    "        self.test_accuracy = torchmetrics.classification.BinaryAccuracy()\n",
    "    \n",
    "    def forward(self, x, laplacian_down, laplacian_up, signal_belongings):\n",
    "        x = self.base_model(x, laplacian_down, laplacian_up)\n",
    "        x = self.liner_readout(x)\n",
    "        x_mean = pool.global_mean_pool(x, signal_belongings)\n",
    "        x_mean[torch.isnan(x_mean)] = 0\n",
    "        return x_mean\n",
    "    \n",
    "    def transfer_batch_to_device(self, batch, device, dataloader_idx):\n",
    "        return transfer_simplicial_complex_batch_to_device(batch, device, dataloader_idx)\n",
    "        \n",
    "    def general_step(self, batch, batch_idx, step: Literal['train', 'test', 'validation']):\n",
    "        s_complexes, signal_belongings, batch_len = batch\n",
    "        x = s_complexes.signals[self.rank]\n",
    "        if rank == 0:\n",
    "            laplacian_down = None\n",
    "            laplacian_up = s_complexes.neighborhood_matrices[f'0_laplacian']\n",
    "        elif rank == 1:\n",
    "            laplacian_down = s_complexes.neighborhood_matrices[f'1_laplacian_down']\n",
    "            laplacian_up = s_complexes.neighborhood_matrices[f'1_laplacian_up']\n",
    "        elif rank == 2:\n",
    "            laplacian_down = s_complexes.neighborhood_matrices[f'2_laplacian']\n",
    "            laplacian_up = None\n",
    "        else:\n",
    "            raise ValueError(\"rank must be 0, 1 or 2.\")\n",
    "        y = s_complexes.other_features['y'].float()\n",
    "        signal_belongings = signal_belongings[self.rank]\n",
    "        x_hat = self(x, laplacian_down, laplacian_up, signal_belongings)\n",
    "        # Squeeze x_hat to match the shape of y\n",
    "        x_hat = x_hat.squeeze()\n",
    "        loss = nn.functional.binary_cross_entropy_with_logits(x_hat, y)\n",
    "        self.log('train_loss', loss, prog_bar=True, batch_size=batch_len, on_step=False, on_epoch=True)\n",
    "        self.log_accuracies(x_hat, y, batch_len, step)\n",
    "        return loss\n",
    "    \n",
    "    def log_accuracies(self, x_hat, y, batch_len, step: Literal['train', 'test', 'validation']):\n",
    "        # Apply the sigmoid function to x_hat to get the probabilities\n",
    "        x_hat = torch.sigmoid(x_hat)\n",
    "        if step == 'train':\n",
    "            self.training_accuracy(x_hat, y)\n",
    "            self.log('train_accuracy', self.training_accuracy, prog_bar=True, on_step=False, on_epoch=True, batch_size=batch_len)\n",
    "        elif step == 'test':\n",
    "            self.test_accuracy(x_hat, y)\n",
    "            self.log('test_accuracy', self.test_accuracy, prog_bar=True, on_step=False, on_epoch=True, batch_size=batch_len)\n",
    "        elif step == 'validation':\n",
    "            self.validation_accuracy(x_hat, y)\n",
    "            self.log('validation_accuracy', self.validation_accuracy, prog_bar=True, on_step=False, on_epoch=True, batch_size=batch_len)\n",
    "    \n",
    "    def test_step(self, batch, batch_idx):\n",
    "        return self.general_step(batch, batch_idx, 'test')\n",
    "    \n",
    "    def validation_step(self, batch, batch_idx):\n",
    "        return self.general_step(batch, batch_idx, 'validation')\n",
    "    \n",
    "    def training_step(self, batch, batch_idx):\n",
    "        return self.general_step(batch, batch_idx, 'train')\n",
    "        \n",
    "    def configure_optimizers(self):\n",
    "        optimizer = torch.optim.Adam(model.parameters(), lr=0.01)\n",
    "        return optimizer\n",
    "        "
   ],
   "metadata": {
    "collapsed": false,
    "ExecuteTime": {
     "end_time": "2024-04-26T17:52:24.975079Z",
     "start_time": "2024-04-26T17:52:24.844516Z"
    }
   },
   "id": "d8a128eef9a65999",
   "execution_count": 57
  },
  {
   "cell_type": "code",
   "outputs": [],
   "source": [
    "model = SCNNNetwork(rank=rank,\n",
    "                    in_channels=in_channels,\n",
    "                    hidden_channels=hidden_channels,\n",
    "                    out_channels=out_channels,\n",
    "                    conv_order_down=conv_order_down,\n",
    "                    conv_order_up=conv_order_up,\n",
    "                    n_layers=num_layers)\n",
    "\n",
    "loss_fn = torch.nn.MSELoss()"
   ],
   "metadata": {
    "collapsed": false,
    "ExecuteTime": {
     "end_time": "2024-04-26T17:52:25.881301Z",
     "start_time": "2024-04-26T17:52:25.759380Z"
    }
   },
   "id": "490ce8ad6e1d4ccf",
   "execution_count": 58
  },
  {
   "cell_type": "code",
   "outputs": [],
   "source": [
    "# Split the dataset\n",
    "test_percentage = 0.2\n",
    "batch_size = 16\n",
    "test_len = math.floor(len(dataset) * test_percentage)\n",
    "train_ds, test_ds = random_split(dataset, [len(dataset) - test_len, test_len])\n",
    "train_dl = SimplicialDataLoader(train_ds, batch_size=batch_size, shuffle=True)\n",
    "test_dl = SimplicialDataLoader(test_ds, batch_size=batch_size, shuffle=False)"
   ],
   "metadata": {
    "collapsed": false,
    "ExecuteTime": {
     "end_time": "2024-04-26T17:52:27.137037Z",
     "start_time": "2024-04-26T17:52:27.021248Z"
    }
   },
   "id": "bc2adabedffd109a",
   "execution_count": 59
  },
  {
   "cell_type": "code",
   "outputs": [
    {
     "name": "stderr",
     "output_type": "stream",
     "text": [
      "GPU available: True (cuda), used: False\n",
      "TPU available: False, using: 0 TPU cores\n",
      "IPU available: False, using: 0 IPUs\n",
      "HPU available: False, using: 0 HPUs\n",
      "\n",
      "  | Name                | Type           | Params\n",
      "-------------------------------------------------------\n",
      "0 | base_model          | SCNN           | 200   \n",
      "1 | liner_readout       | Linear         | 5     \n",
      "2 | training_accuracy   | BinaryAccuracy | 0     \n",
      "3 | validation_accuracy | BinaryAccuracy | 0     \n",
      "4 | test_accuracy       | BinaryAccuracy | 0     \n",
      "-------------------------------------------------------\n",
      "205       Trainable params\n",
      "0         Non-trainable params\n",
      "205       Total params\n",
      "0.001     Total estimated model params size (MB)\n"
     ]
    },
    {
     "data": {
      "text/plain": "Sanity Checking: |          | 0/? [00:00<?, ?it/s]",
      "application/vnd.jupyter.widget-view+json": {
       "version_major": 2,
       "version_minor": 0,
       "model_id": "b84133381665492cb5be8f1d75efc184"
      }
     },
     "metadata": {},
     "output_type": "display_data"
    },
    {
     "data": {
      "text/plain": "Training: |          | 0/? [00:00<?, ?it/s]",
      "application/vnd.jupyter.widget-view+json": {
       "version_major": 2,
       "version_minor": 0,
       "model_id": "8d9f88ea69be43deae1f24fd81f3aaac"
      }
     },
     "metadata": {},
     "output_type": "display_data"
    },
    {
     "data": {
      "text/plain": "Validation: |          | 0/? [00:00<?, ?it/s]",
      "application/vnd.jupyter.widget-view+json": {
       "version_major": 2,
       "version_minor": 0,
       "model_id": "85309ee085a747f998012a7f6addf3f2"
      }
     },
     "metadata": {},
     "output_type": "display_data"
    },
    {
     "data": {
      "text/plain": "Validation: |          | 0/? [00:00<?, ?it/s]",
      "application/vnd.jupyter.widget-view+json": {
       "version_major": 2,
       "version_minor": 0,
       "model_id": "7c8aa32e31e14591ae5cf1bfc3206fe7"
      }
     },
     "metadata": {},
     "output_type": "display_data"
    },
    {
     "data": {
      "text/plain": "Validation: |          | 0/? [00:00<?, ?it/s]",
      "application/vnd.jupyter.widget-view+json": {
       "version_major": 2,
       "version_minor": 0,
       "model_id": "da7a3218ab8c4991b4ebcaf4b72ed390"
      }
     },
     "metadata": {},
     "output_type": "display_data"
    },
    {
     "data": {
      "text/plain": "Validation: |          | 0/? [00:00<?, ?it/s]",
      "application/vnd.jupyter.widget-view+json": {
       "version_major": 2,
       "version_minor": 0,
       "model_id": "b1a2be0c629e49aa8ddb3766dbf3bcf6"
      }
     },
     "metadata": {},
     "output_type": "display_data"
    },
    {
     "data": {
      "text/plain": "Validation: |          | 0/? [00:00<?, ?it/s]",
      "application/vnd.jupyter.widget-view+json": {
       "version_major": 2,
       "version_minor": 0,
       "model_id": "b8bc9d6b38a64eaaa0c2b6e3876706ec"
      }
     },
     "metadata": {},
     "output_type": "display_data"
    },
    {
     "data": {
      "text/plain": "Validation: |          | 0/? [00:00<?, ?it/s]",
      "application/vnd.jupyter.widget-view+json": {
       "version_major": 2,
       "version_minor": 0,
       "model_id": "2255f5e18d7f49fcb6d58a0220309d89"
      }
     },
     "metadata": {},
     "output_type": "display_data"
    },
    {
     "data": {
      "text/plain": "Validation: |          | 0/? [00:00<?, ?it/s]",
      "application/vnd.jupyter.widget-view+json": {
       "version_major": 2,
       "version_minor": 0,
       "model_id": "fcebc9f612a5430586b1fa47db31c9e3"
      }
     },
     "metadata": {},
     "output_type": "display_data"
    },
    {
     "data": {
      "text/plain": "Validation: |          | 0/? [00:00<?, ?it/s]",
      "application/vnd.jupyter.widget-view+json": {
       "version_major": 2,
       "version_minor": 0,
       "model_id": "2a8347f3263c4ce68714fe2613191016"
      }
     },
     "metadata": {},
     "output_type": "display_data"
    },
    {
     "data": {
      "text/plain": "Validation: |          | 0/? [00:00<?, ?it/s]",
      "application/vnd.jupyter.widget-view+json": {
       "version_major": 2,
       "version_minor": 0,
       "model_id": "2f23f8d69f7e43d697e031852ac4e0d3"
      }
     },
     "metadata": {},
     "output_type": "display_data"
    },
    {
     "data": {
      "text/plain": "Validation: |          | 0/? [00:00<?, ?it/s]",
      "application/vnd.jupyter.widget-view+json": {
       "version_major": 2,
       "version_minor": 0,
       "model_id": "c60f3d64c1b143239f9003b6ad34a439"
      }
     },
     "metadata": {},
     "output_type": "display_data"
    },
    {
     "name": "stderr",
     "output_type": "stream",
     "text": [
      "`Trainer.fit` stopped: `max_epochs=10` reached.\n"
     ]
    }
   ],
   "source": [
    "# Use CPU acceleration: SCCNN does not support GPU acceleration because it creates matrices not placed in the device of the network.\n",
    "trainer = L.Trainer(max_epochs=10, accelerator='cpu')\n",
    "trainer.fit(model, train_dl, test_dl)"
   ],
   "metadata": {
    "collapsed": false,
    "ExecuteTime": {
     "end_time": "2024-04-26T17:53:18.775547Z",
     "start_time": "2024-04-26T17:52:28.309576Z"
    }
   },
   "id": "165f0d2d46fc7d1a",
   "execution_count": 60
  }
 ],
 "metadata": {
  "kernelspec": {
   "display_name": "Python 3",
   "language": "python",
   "name": "python3"
  },
  "language_info": {
   "codemirror_mode": {
    "name": "ipython",
    "version": 2
   },
   "file_extension": ".py",
   "mimetype": "text/x-python",
   "name": "python",
   "nbconvert_exporter": "python",
   "pygments_lexer": "ipython2",
   "version": "2.7.6"
  }
 },
 "nbformat": 4,
 "nbformat_minor": 5
}
