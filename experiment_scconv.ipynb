{
 "cells": [
  {
   "cell_type": "code",
   "outputs": [],
   "source": [
    "%load_ext autoreload\n",
    "%autoreload 2"
   ],
   "metadata": {
    "collapsed": false,
    "ExecuteTime": {
     "end_time": "2024-04-26T16:28:15.561570Z",
     "start_time": "2024-04-26T16:28:15.523217Z"
    }
   },
   "id": "e1447e3b250fa124",
   "execution_count": 1
  },
  {
   "cell_type": "code",
   "outputs": [],
   "source": [
    "from mantra.simplicial import SimplicialDataset\n",
    "import torch\n",
    "import numpy as np\n",
    "import torchvision.transforms as transforms\n",
    "from mantra.transforms import OrientableToClassTransform, SimplicialComplexTransform\n",
    "from mantra.dataloaders import SimplicialDataLoader\n",
    "from topomodelx.utils.sparse import from_sparse"
   ],
   "metadata": {
    "collapsed": true,
    "ExecuteTime": {
     "end_time": "2024-04-26T16:28:21.920472Z",
     "start_time": "2024-04-26T16:28:16.229989Z"
    }
   },
   "id": "initial_id",
   "execution_count": 2
  },
  {
   "cell_type": "code",
   "outputs": [],
   "source": [
    "from mantra.transforms import SimplicialComplexDegreeTransform, SimplicialComplexEdgeCoadjacencyDegreeTransform, \\\n",
    "    SimplicialComplexEdgeAdjacencyDegreeTransform, SimplicialComplexTriangleCoadjacencyDegreeTransform, \\\n",
    "    OrientableToClassSimplicialComplexTransform, DimTwoHodgeLaplacianSimplicialComplexTransform, \\\n",
    "    DimOneHodgeLaplacianDownSimplicialComplexTransform, DimOneHodgeLaplacianUpSimplicialComplexTransform, \\\n",
    "    DimZeroHodgeLaplacianSimplicialComplexTransform\n",
    "\n",
    "tr = transforms.Compose(\n",
    "            [SimplicialComplexTransform(), \n",
    "             SimplicialComplexDegreeTransform(),\n",
    "             SimplicialComplexEdgeCoadjacencyDegreeTransform(),\n",
    "             SimplicialComplexEdgeAdjacencyDegreeTransform(),\n",
    "             SimplicialComplexTriangleCoadjacencyDegreeTransform(),\n",
    "             DimZeroHodgeLaplacianSimplicialComplexTransform(),\n",
    "             DimOneHodgeLaplacianUpSimplicialComplexTransform(),\n",
    "             DimOneHodgeLaplacianDownSimplicialComplexTransform(),\n",
    "             DimTwoHodgeLaplacianSimplicialComplexTransform(),\n",
    "             OrientableToClassSimplicialComplexTransform()]\n",
    "        )"
   ],
   "metadata": {
    "collapsed": false,
    "ExecuteTime": {
     "end_time": "2024-04-26T16:28:22.571244Z",
     "start_time": "2024-04-26T16:28:22.459092Z"
    }
   },
   "id": "258c13ed23fc24a9",
   "execution_count": 3
  },
  {
   "cell_type": "code",
   "outputs": [],
   "source": [
    "dataset = SimplicialDataset(root=\"./data\", transform=tr)\n",
    "dloader = SimplicialDataLoader(dataset, batch_size=3, shuffle=False)"
   ],
   "metadata": {
    "collapsed": false,
    "ExecuteTime": {
     "end_time": "2024-04-26T16:28:23.596726Z",
     "start_time": "2024-04-26T16:28:23.475386Z"
    }
   },
   "id": "b7a030f18bfe7035",
   "execution_count": 4
  },
  {
   "cell_type": "code",
   "outputs": [],
   "source": [
    "# Take the first batch\n",
    "batch, signals_belonging, len_batch = next(iter(dloader))"
   ],
   "metadata": {
    "collapsed": false,
    "ExecuteTime": {
     "end_time": "2024-04-26T16:28:38.535498Z",
     "start_time": "2024-04-26T16:28:38.340151Z"
    }
   },
   "id": "3220794957955b0f",
   "execution_count": 6
  },
  {
   "cell_type": "code",
   "outputs": [],
   "source": [],
   "metadata": {
    "collapsed": false
   },
   "id": "d8a128eef9a65999"
  }
 ],
 "metadata": {
  "kernelspec": {
   "display_name": "Python 3",
   "language": "python",
   "name": "python3"
  },
  "language_info": {
   "codemirror_mode": {
    "name": "ipython",
    "version": 2
   },
   "file_extension": ".py",
   "mimetype": "text/x-python",
   "name": "python",
   "nbconvert_exporter": "python",
   "pygments_lexer": "ipython2",
   "version": "2.7.6"
  }
 },
 "nbformat": 4,
 "nbformat_minor": 5
}
