{
 "cells": [
  {
   "cell_type": "code",
   "execution_count": 1,
   "metadata": {
    "ExecuteTime": {
     "end_time": "2024-04-25T17:47:32.798261Z",
     "start_time": "2024-04-25T17:47:19.035622Z"
    }
   },
   "outputs": [],
   "source": [
    "from torch_geometric.loader import DataLoader, ImbalancedSampler\n",
    "from torch_geometric.transforms import FaceToEdge, OneHotDegree\n",
    "import torchvision.transforms as transforms\n",
    "\n",
    "from mantra.simplicial import SimplicialDataset\n",
    "from mantra.transforms import (\n",
    "    TriangulationToFaceTransform,\n",
    "    OrientableToClassTransform,\n",
    "    DegreeTransform,\n",
    ")\n",
    "from validation.validate_homology import validate_betti_numbers\n",
    "\n",
    "import torch"
   ]
  },
  {
   "cell_type": "markdown",
   "metadata": {},
   "source": []
  },
  {
   "cell_type": "code",
   "execution_count": 2,
   "metadata": {},
   "outputs": [],
   "source": [
    "class NameToClass:\n",
    "    def __init__(self):\n",
    "        self.class_dict = {\n",
    "            \"Klein bottle\": 0,\n",
    "            \"\": 1,\n",
    "            \"RP^2\": 2,\n",
    "            \"T^2\": 3,\n",
    "            \"S^2\": 4,\n",
    "        }\n",
    "\n",
    "    def __call__(self, data):\n",
    "        # data.y = F.one_hot(torch.tensor(self.class_dict[data.name]),num_classes=5)\n",
    "        data.y = torch.tensor(self.class_dict[data.name])\n",
    "        return data\n",
    "\n",
    "\n",
    "tr = transforms.Compose(\n",
    "    [\n",
    "        TriangulationToFaceTransform(),\n",
    "        FaceToEdge(remove_faces=False),\n",
    "        DegreeTransform(),\n",
    "        OrientableToClassTransform(),\n",
    "        NameToClass(),\n",
    "    ]\n",
    ")\n",
    "\n",
    "dataset = SimplicialDataset(root=\"./data\", transform=tr)"
   ]
  },
  {
   "cell_type": "code",
   "execution_count": 3,
   "metadata": {},
   "outputs": [
    {
     "name": "stdout",
     "output_type": "stream",
     "text": [
      "\n",
      "Dataset: SimplicialDataset(712):\n",
      "====================\n",
      "Number of graphs: 712\n",
      "Number of features: 1\n",
      "\n",
      "Data(dimension=[1], n_vertices=[1], torsion_coefficients=[3], betti_numbers=[3], orientable=[1], genus=[1], name='S^2', face=[3, 4], edge_index=[2, 12], x=[4, 1], y=4)\n",
      "=============================================================\n",
      "Number of nodes: 4\n",
      "Number of edges: 12\n",
      "Average node degree: 3.00\n",
      "Has isolated nodes: False\n",
      "Has self-loops: False\n",
      "Is undirected: True\n",
      "=============================================================\n",
      "Number of orientable Manifolds: 193\n",
      "Number of non-orientable Manifolds: 519\n",
      "Percentage: 0.27, 0.73\n"
     ]
    },
    {
     "name": "stderr",
     "output_type": "stream",
     "text": [
      "C:\\Users\\ernst\\AppData\\Local\\Packages\\PythonSoftwareFoundation.Python.3.10_qbz5n2kfra8p0\\LocalCache\\local-packages\\Python310\\site-packages\\torch_geometric\\data\\storage.py:450: UserWarning: Unable to accurately infer 'num_nodes' from the attribute set '{'torsion_coefficients', 'n_vertices', 'betti_numbers', 'dimension', 'orientable', 'genus', 'face', 'name'}'. Please explicitly set 'num_nodes' as an attribute of 'data' to suppress this warning\n",
      "  warnings.warn(\n"
     ]
    }
   ],
   "source": [
    "print()\n",
    "print(f\"Dataset: {dataset}:\")\n",
    "print(\"====================\")\n",
    "print(f\"Number of graphs: {len(dataset)}\")\n",
    "print(f\"Number of features: {dataset.num_features}\")\n",
    "# print(f\"Number of classes: {dataset.num_classes}\")\n",
    "\n",
    "data = dataset[0]  # Get the first graph object.\n",
    "\n",
    "print()\n",
    "print(data)\n",
    "print(\"=============================================================\")\n",
    "\n",
    "# Gather some statistics about the first graph.\n",
    "print(f\"Number of nodes: {len(data.x)}\")\n",
    "print(f\"Number of edges: {data.num_edges}\")\n",
    "print(f\"Average node degree: {data.num_edges / len(data.x):.2f}\")\n",
    "print(f\"Has isolated nodes: {data.has_isolated_nodes()}\")\n",
    "print(f\"Has self-loops: {data.has_self_loops()}\")\n",
    "print(f\"Is undirected: {data.is_undirected()}\")\n",
    "\n",
    "print(\"=============================================================\")\n",
    "print(f\"Number of orientable Manifolds: {sum(dataset.orientable)}\")\n",
    "print(\n",
    "    f\"Number of non-orientable Manifolds: {len(dataset) - sum(dataset.orientable)}\"\n",
    ")\n",
    "print(\n",
    "    f\"Percentage: {sum(dataset.orientable) / len(dataset):.2f}, {(len(dataset) - sum(dataset.orientable)) / len(dataset):.2f}\"\n",
    ")"
   ]
  },
  {
   "cell_type": "code",
   "execution_count": 4,
   "metadata": {},
   "outputs": [
    {
     "name": "stdout",
     "output_type": "stream",
     "text": [
      "Number of training graphs: 562\n",
      "Number of test graphs: 150\n"
     ]
    }
   ],
   "source": [
    "dataset = dataset.shuffle()\n",
    "\n",
    "train_dataset = dataset[:-150]\n",
    "test_dataset = dataset[-150:]\n",
    "\n",
    "print(f\"Number of training graphs: {len(train_dataset)}\")\n",
    "print(f\"Number of test graphs: {len(test_dataset)}\")"
   ]
  },
  {
   "cell_type": "code",
   "execution_count": 5,
   "metadata": {},
   "outputs": [
    {
     "data": {
      "text/plain": [
       "tensor([4, 4, 0, 3, 4, 2, 2, 1, 4, 2])"
      ]
     },
     "execution_count": 5,
     "metadata": {},
     "output_type": "execute_result"
    }
   ],
   "source": [
    "train_loader = DataLoader(\n",
    "    train_dataset, batch_size=10\n",
    ")  # ,sampler=ImbalancedSampler(train_dataset))\n",
    "test_loader = DataLoader(test_dataset, batch_size=10)\n",
    "\n",
    "\n",
    "for batch in train_loader:\n",
    "    break\n",
    "\n",
    "batch.y"
   ]
  },
  {
   "cell_type": "code",
   "execution_count": 6,
   "metadata": {},
   "outputs": [
    {
     "name": "stdout",
     "output_type": "stream",
     "text": [
      "GCN(\n",
      "  (conv1): TransformerConv(1, 64, heads=1)\n",
      "  (conv2): TransformerConv(64, 64, heads=1)\n",
      "  (conv3): TransformerConv(64, 64, heads=1)\n",
      "  (lin): Linear(in_features=64, out_features=5, bias=True)\n",
      ")\n"
     ]
    }
   ],
   "source": [
    "from torch.nn import Linear\n",
    "import torch.nn.functional as F\n",
    "from torch_geometric.nn import GCNConv, TAGConv, TransformerConv\n",
    "from torch_geometric.nn import global_mean_pool\n",
    "\n",
    "\n",
    "class GCN(torch.nn.Module):\n",
    "    def __init__(self, hidden_channels):\n",
    "        super(GCN, self).__init__()\n",
    "        torch.manual_seed(12345)\n",
    "        self.conv1 = TransformerConv(\n",
    "            dataset.num_node_features, hidden_channels\n",
    "        )\n",
    "        self.conv2 = TransformerConv(hidden_channels, hidden_channels)\n",
    "        self.conv3 = TransformerConv(hidden_channels, hidden_channels)\n",
    "        self.lin = Linear(hidden_channels, 5)\n",
    "\n",
    "    def forward(self, batch):\n",
    "        # 1. Obtain node embeddings\n",
    "        x = self.conv1(batch.x, batch.edge_index)\n",
    "        x = x.relu()\n",
    "        x = self.conv2(x, batch.edge_index)\n",
    "        x = x.relu()\n",
    "        x = self.conv3(x, batch.edge_index)\n",
    "\n",
    "        # 2. Readout layer\n",
    "        x = global_mean_pool(x, batch.batch)  # [batch_size, hidden_channels]\n",
    "\n",
    "        # 3. Apply a final classifier\n",
    "        x = F.dropout(x, p=0.5, training=self.training)\n",
    "        x = self.lin(x)\n",
    "\n",
    "        return x\n",
    "\n",
    "\n",
    "model = GCN(hidden_channels=64)\n",
    "print(model)"
   ]
  },
  {
   "cell_type": "code",
   "execution_count": 7,
   "metadata": {},
   "outputs": [
    {
     "name": "stdout",
     "output_type": "stream",
     "text": [
      "Epoch: 001, Train Acc: 0.3327, Test Acc: 0.2933\n",
      "Epoch: 002, Train Acc: 0.4751, Test Acc: 0.4533\n",
      "Epoch: 003, Train Acc: 0.5089, Test Acc: 0.4933\n",
      "Epoch: 004, Train Acc: 0.5125, Test Acc: 0.4600\n",
      "Epoch: 005, Train Acc: 0.5996, Test Acc: 0.5667\n",
      "Epoch: 006, Train Acc: 0.6637, Test Acc: 0.6200\n",
      "Epoch: 007, Train Acc: 0.7046, Test Acc: 0.6067\n",
      "Epoch: 008, Train Acc: 0.8167, Test Acc: 0.7867\n",
      "Epoch: 009, Train Acc: 0.8345, Test Acc: 0.8000\n",
      "Epoch: 010, Train Acc: 0.8310, Test Acc: 0.8000\n",
      "Epoch: 011, Train Acc: 0.8185, Test Acc: 0.7600\n",
      "Epoch: 012, Train Acc: 0.8114, Test Acc: 0.7667\n",
      "Epoch: 013, Train Acc: 0.8363, Test Acc: 0.7933\n",
      "Epoch: 014, Train Acc: 0.8363, Test Acc: 0.8000\n",
      "Epoch: 015, Train Acc: 0.8363, Test Acc: 0.7933\n",
      "Epoch: 016, Train Acc: 0.8381, Test Acc: 0.8000\n",
      "Epoch: 017, Train Acc: 0.8399, Test Acc: 0.8000\n",
      "Epoch: 018, Train Acc: 0.8381, Test Acc: 0.8000\n",
      "Epoch: 019, Train Acc: 0.8399, Test Acc: 0.8000\n",
      "Epoch: 020, Train Acc: 0.8256, Test Acc: 0.7933\n",
      "Epoch: 021, Train Acc: 0.8381, Test Acc: 0.8000\n",
      "Epoch: 022, Train Acc: 0.8399, Test Acc: 0.8000\n",
      "Epoch: 023, Train Acc: 0.8381, Test Acc: 0.8000\n",
      "Epoch: 024, Train Acc: 0.8399, Test Acc: 0.8000\n",
      "Epoch: 025, Train Acc: 0.8381, Test Acc: 0.8000\n",
      "Epoch: 026, Train Acc: 0.8399, Test Acc: 0.8000\n",
      "Epoch: 027, Train Acc: 0.8381, Test Acc: 0.7933\n",
      "Epoch: 028, Train Acc: 0.8399, Test Acc: 0.8000\n",
      "Epoch: 029, Train Acc: 0.8399, Test Acc: 0.8000\n",
      "Epoch: 030, Train Acc: 0.8399, Test Acc: 0.8000\n",
      "Epoch: 031, Train Acc: 0.8381, Test Acc: 0.7933\n",
      "Epoch: 032, Train Acc: 0.8399, Test Acc: 0.8000\n",
      "Epoch: 033, Train Acc: 0.8399, Test Acc: 0.8000\n",
      "Epoch: 034, Train Acc: 0.8399, Test Acc: 0.8000\n",
      "Epoch: 035, Train Acc: 0.8399, Test Acc: 0.8000\n",
      "Epoch: 036, Train Acc: 0.8399, Test Acc: 0.8000\n",
      "Epoch: 037, Train Acc: 0.8399, Test Acc: 0.8000\n",
      "Epoch: 038, Train Acc: 0.8399, Test Acc: 0.8000\n",
      "Epoch: 039, Train Acc: 0.8399, Test Acc: 0.8000\n"
     ]
    }
   ],
   "source": [
    "model = GCN(hidden_channels=64)\n",
    "optimizer = torch.optim.Adam(model.parameters(), lr=0.001)\n",
    "criterion = torch.nn.CrossEntropyLoss()\n",
    "\n",
    "\n",
    "def train():\n",
    "    model.train()\n",
    "\n",
    "    for data in train_loader:  # Iterate in batches over the training dataset.\n",
    "        out = model(data)  # Perform a single forward pass.\n",
    "        loss = criterion(out, data.y)  # Compute the loss.\n",
    "        loss.backward()  # Derive gradients.\n",
    "        optimizer.step()  # Update parameters based on gradients.\n",
    "        optimizer.zero_grad()  # Clear gradients.\n",
    "\n",
    "\n",
    "def test(loader):\n",
    "    model.eval()\n",
    "\n",
    "    correct = 0\n",
    "    for data in loader:  # Iterate in batches over the training/test dataset.\n",
    "        out = model(data)\n",
    "        pred = out.argmax(dim=1)  # Use the class with highest probability.\n",
    "        correct += int(\n",
    "            (pred == data.y).sum()\n",
    "        )  # Check against ground-truth labels.\n",
    "    return correct / len(\n",
    "        loader.dataset\n",
    "    )  # Derive ratio of correct predictions.\n",
    "\n",
    "\n",
    "for epoch in range(1, 40):\n",
    "    train()\n",
    "    train_acc = test(train_loader)\n",
    "    test_acc = test(test_loader)\n",
    "    print(\n",
    "        f\"Epoch: {epoch:03d}, Train Acc: {train_acc:.4f}, Test Acc: {test_acc:.4f}\"\n",
    "    )"
   ]
  }
 ],
 "metadata": {
  "kernelspec": {
   "display_name": "Python 3",
   "language": "python",
   "name": "python3"
  },
  "language_info": {
   "codemirror_mode": {
    "name": "ipython",
    "version": 3
   },
   "file_extension": ".py",
   "mimetype": "text/x-python",
   "name": "python",
   "nbconvert_exporter": "python",
   "pygments_lexer": "ipython3",
   "version": "3.10.11"
  }
 },
 "nbformat": 4,
 "nbformat_minor": 2
}
