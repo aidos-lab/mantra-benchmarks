{
 "cells": [
  {
   "cell_type": "code",
   "execution_count": 1,
   "metadata": {},
   "outputs": [],
   "source": [
    "from mantra.simplicial import SimplicialDataset"
   ]
  },
  {
   "cell_type": "code",
   "execution_count": 6,
   "metadata": {},
   "outputs": [],
   "source": [
    "dataset = SimplicialDataset(\"./data\")"
   ]
  },
  {
   "cell_type": "code",
   "execution_count": 7,
   "metadata": {},
   "outputs": [
    {
     "name": "stdout",
     "output_type": "stream",
     "text": [
      "Data(id='manifold_2_4_1', triangulation=[4], dimension=[1], n_vertices=[1], betti_numbers=[3], torsion_coefficients=[3], name='S^2', genus=[1], orientable=[1])\n"
     ]
    }
   ],
   "source": [
    "for data in dataset: \n",
    "    print(data)\n",
    "    break"
   ]
  },
  {
   "cell_type": "code",
   "execution_count": 12,
   "metadata": {},
   "outputs": [],
   "source": [
    "from collections import Counter\n",
    "from typing import List\n",
    "\n",
    "\n",
    "def unique_counts(input_list:List[str]):\n",
    "    return Counter(input_list).keys(), Counter(input_list).values() "
   ]
  },
  {
   "cell_type": "code",
   "execution_count": 13,
   "metadata": {},
   "outputs": [
    {
     "data": {
      "text/plain": [
       "(dict_keys(['S^2', 'RP^2', 'T^2', 'Klein bottle', '']),\n",
       " dict_values([306, 1364, 2229, 4655, 34584]))"
      ]
     },
     "execution_count": 13,
     "metadata": {},
     "output_type": "execute_result"
    }
   ],
   "source": [
    "unique_counts(dataset.names)"
   ]
  },
  {
   "cell_type": "code",
   "execution_count": 22,
   "metadata": {},
   "outputs": [
    {
     "data": {
      "text/plain": [
       "(dict_keys([True, False]), dict_values([3420, 39718]))"
      ]
     },
     "execution_count": 22,
     "metadata": {},
     "output_type": "execute_result"
    }
   ],
   "source": [
    "unique_counts(dataset.orientable.tolist())"
   ]
  },
  {
   "cell_type": "code",
   "execution_count": 32,
   "metadata": {},
   "outputs": [
    {
     "name": "stdout",
     "output_type": "stream",
     "text": [
      "(dict_keys([1]), dict_values([43138]))\n",
      "(dict_keys([0, 2, 1, 3, 4, 5, 6]), dict_values([1670, 14146, 4655, 13694, 7917, 1022, 34]))\n",
      "(dict_keys([1, 0]), dict_values([3420, 39718]))\n"
     ]
    }
   ],
   "source": [
    "import numpy as np\n",
    "betti = np.array(dataset.betti_numbers)\n",
    "\n",
    "print(unique_counts(betti[:,0]))\n",
    "print(unique_counts(betti[:,1]))\n",
    "print(unique_counts(betti[:,2]))\n"
   ]
  }
 ],
 "metadata": {
  "kernelspec": {
   "display_name": "Python 3",
   "language": "python",
   "name": "python3"
  },
  "language_info": {
   "codemirror_mode": {
    "name": "ipython",
    "version": 3
   },
   "file_extension": ".py",
   "mimetype": "text/x-python",
   "name": "python",
   "nbconvert_exporter": "python",
   "pygments_lexer": "ipython3",
   "version": "3.10.11"
  }
 },
 "nbformat": 4,
 "nbformat_minor": 2
}
