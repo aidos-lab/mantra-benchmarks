{
 "cells": [
  {
   "cell_type": "code",
   "execution_count": 1,
   "metadata": {},
   "outputs": [],
   "source": [
    "import sys \n",
    "import os \n",
    "sys.path.append(\"..\")\n",
    "os.chdir(\"..\")"
   ]
  },
  {
   "cell_type": "code",
   "execution_count": 2,
   "metadata": {},
   "outputs": [],
   "source": [
    "import numpy as np \n",
    "from experiments.utils.configs import load_config, ConfigExperimentRun\n",
    "from experiments.utils.run_experiment import get_data_module\n",
    "\n",
    "def get_bn_distr(manifold: int):\n",
    "    config_path = f\"/code/data/configs/full_{manifold}d_random_node_features_betti_numbers_tag_seed_1234.yaml\"\n",
    "    cfg = load_config(config_fpath=config_path)\n",
    "    data_dir = \"/data\"\n",
    "    dm = get_data_module(cfg, data_dir)\n",
    "    dm.setup()\n",
    "    bn = np.asarray(dm.train_ds.betti_numbers)\n",
    "\n",
    "    for i in range(manifold + 1):\n",
    "        max_ = np.max(bn[:, i])\n",
    "        min_ = np.min(bn[:, i])\n",
    "        log_str = f\"manifold-{manifold}_bn-{i}_max-{max_}_min-{min_}\"\n",
    "        print(log_str)"
   ]
  },
  {
   "cell_type": "code",
   "execution_count": 3,
   "metadata": {},
   "outputs": [
    {
     "name": "stdout",
     "output_type": "stream",
     "text": [
      "manifold-2_bn-0_max-1_min-1\n",
      "manifold-2_bn-1_max-6_min-0\n",
      "manifold-2_bn-2_max-1_min-0\n",
      "manifold-3_bn-0_max-1_min-1\n",
      "manifold-3_bn-1_max-1_min-0\n",
      "manifold-3_bn-2_max-1_min-0\n",
      "manifold-3_bn-3_max-1_min-0\n"
     ]
    }
   ],
   "source": [
    "get_bn_distr(2)\n",
    "get_bn_distr(3)"
   ]
  }
 ],
 "metadata": {
  "kernelspec": {
   "display_name": "venv",
   "language": "python",
   "name": "python3"
  },
  "language_info": {
   "codemirror_mode": {
    "name": "ipython",
    "version": 3
   },
   "file_extension": ".py",
   "mimetype": "text/x-python",
   "name": "python",
   "nbconvert_exporter": "python",
   "pygments_lexer": "ipython3",
   "version": "3.10.14"
  }
 },
 "nbformat": 4,
 "nbformat_minor": 2
}
