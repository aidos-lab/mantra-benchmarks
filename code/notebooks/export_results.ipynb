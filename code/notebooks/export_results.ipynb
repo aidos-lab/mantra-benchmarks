{
 "cells": [
  {
   "cell_type": "code",
   "metadata": {},
   "source": [
    "import pandas as pd \n",
    "import wandb\n",
    "wandb.login()\n",
    "api = wandb.Api()\n",
    "\n",
    "# Project is specified by <entity/project-name>\n",
    "runs = api.runs(\"mantra-dev\")"
   ],
   "outputs": [],
   "execution_count": null
  },
  {
   "cell_type": "code",
   "metadata": {},
   "source": [
    "full_history, config_list, name_list = [], [], []\n",
    "for run in runs: \n",
    "    # .summary contains the output keys/values for metrics like accuracy.\n",
    "    #  We call ._json_dict to omit large files\n",
    "    # print(run.history())\n",
    "    h = run._full_history()\n",
    "    h = [ r | run.config for r in h]\n",
    "    full_history.extend(h)  "
   ],
   "outputs": [],
   "execution_count": null
  },
  {
   "cell_type": "code",
   "metadata": {},
   "source": [
    "import json\n",
    "with open(\"raw_results.json\",\"w\") as f:\n",
    "    json.dump(full_history,f)"
   ],
   "outputs": [],
   "execution_count": null
  },
  {
   "cell_type": "code",
   "metadata": {},
   "source": [
    "df = pd.DataFrame(full_history)\n",
    "df = df.set_index([ \"task\",\"model_name\",\"node_features\", \"run_id\"],inplace=False)\n",
    "mean_df = df.groupby(level=[0,1,2]).mean()\n",
    "mean_df = mean_df.add_suffix(\"_mean\")"
   ],
   "outputs": [],
   "execution_count": null
  },
  {
   "cell_type": "code",
   "metadata": {},
   "source": [
    "df"
   ],
   "outputs": [],
   "execution_count": null
  },
  {
   "cell_type": "code",
   "metadata": {},
   "source": [
    "std_df = df.groupby(level=[0,1,2]).std()\n",
    "std_df = std_df.add_suffix(\"_std\")"
   ],
   "outputs": [],
   "execution_count": null
  },
  {
   "cell_type": "code",
   "metadata": {},
   "source": [
    "res_df = pd.concat([mean_df,std_df],join=\"outer\",axis=1) "
   ],
   "outputs": [],
   "execution_count": null
  },
  {
   "cell_type": "code",
   "metadata": {},
   "source": [
    "res_df.to_csv(\"results.csv\")"
   ],
   "outputs": [],
   "execution_count": null
  },
  {
   "cell_type": "code",
   "metadata": {},
   "source": [
    "res_df"
   ],
   "outputs": [],
   "execution_count": null
  },
  {
   "cell_type": "code",
   "metadata": {},
   "source": [
    "\n",
    "res_df[[\"validation_accuracy_mean\",\n",
    "        \"validation_accuracy_std\",\n",
    "       \"train_accuracy_mean\", \n",
    "       \"train_accuracy_std\", \n",
    "       \"validation_accuracy_betti_0_mean\", \n",
    "       \"validation_accuracy_betti_0_std\", \n",
    "       \"validation_accuracy_betti_1_mean\", \n",
    "       \"validation_accuracy_betti_1_std\", \n",
    "       \"validation_accuracy_betti_2_mean\",\n",
    "       \"validation_accuracy_betti_2_std\",\n",
    "       \"train_accuracy_betti_0_mean\",\n",
    "       \"train_accuracy_betti_0_std\",\n",
    "       \"train_accuracy_betti_1_mean\", \n",
    "       \"train_accuracy_betti_1_std\", \n",
    "       \"train_accuracy_betti_2_mean\",\n",
    "       \"train_accuracy_betti_2_std\",\n",
    "       ]]"
   ],
   "outputs": [],
   "execution_count": null
  },
  {
   "cell_type": "code",
   "metadata": {},
   "source": [],
   "outputs": [],
   "execution_count": null
  }
 ],
 "metadata": {
  "kernelspec": {
   "display_name": "venv",
   "language": "python",
   "name": "python3"
  },
  "language_info": {
   "codemirror_mode": {
    "name": "ipython",
    "version": 3
   },
   "file_extension": ".py",
   "mimetype": "text/x-python",
   "name": "python",
   "nbconvert_exporter": "python",
   "pygments_lexer": "ipython3",
   "version": "3.10.13"
  }
 },
 "nbformat": 4,
 "nbformat_minor": 2
}
