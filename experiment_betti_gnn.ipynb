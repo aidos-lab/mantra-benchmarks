{
 "cells": [
  {
   "cell_type": "code",
   "execution_count": 55,
   "metadata": {
    "ExecuteTime": {
     "end_time": "2024-04-25T17:47:32.798261Z",
     "start_time": "2024-04-25T17:47:19.035622Z"
    }
   },
   "outputs": [],
   "source": [
    "from torch_geometric.loader import DataLoader, ImbalancedSampler\n",
    "from torch_geometric.transforms import FaceToEdge, OneHotDegree\n",
    "import torchvision.transforms as transforms\n",
    "\n",
    "from mantra.simplicial import SimplicialDataset\n",
    "from mantra.transforms import (\n",
    "    TriangulationToFaceTransform,\n",
    "    OrientableToClassTransform,\n",
    "    DegreeTransform,\n",
    ")\n",
    "from validation.validate_homology import validate_betti_numbers\n",
    "\n",
    "import torch"
   ]
  },
  {
   "cell_type": "markdown",
   "metadata": {},
   "source": []
  },
  {
   "cell_type": "code",
   "execution_count": 56,
   "metadata": {},
   "outputs": [
    {
     "name": "stdout",
     "output_type": "stream",
     "text": [
      "\n",
      "Dataset: SimplicialDataset(712):\n",
      "====================\n",
      "Number of graphs: 712\n",
      "Number of features: 9\n",
      "Number of classes: 2\n",
      "\n",
      "Data(dimension=[1], n_vertices=[1], torsion_coefficients=[3], betti_numbers=[3], orientable=[1], genus=[1], name='S^2', face=[3, 4], edge_index=[2, 12], x=[4, 9], y=[1])\n",
      "=============================================================\n",
      "Number of nodes: 4\n",
      "Number of edges: 12\n",
      "Average node degree: 3.00\n",
      "Has isolated nodes: False\n",
      "Has self-loops: False\n",
      "Is undirected: True\n",
      "=============================================================\n",
      "Number of orientable Manifolds: 193\n",
      "Number of non-orientable Manifolds: 519\n",
      "Percentage: 0.27, 0.73\n"
     ]
    }
   ],
   "source": [
    "tr = transforms.Compose(\n",
    "    [\n",
    "        TriangulationToFaceTransform(),\n",
    "        FaceToEdge(remove_faces=False),\n",
    "        DegreeTransform(),\n",
    "        OrientableToClassTransform(),\n",
    "        OneHotDegree(max_degree=8, cat=False),\n",
    "    ]\n",
    ")\n",
    "\n",
    "dataset = SimplicialDataset(root=\"./data\", transform=tr)\n",
    "\n",
    "\n",
    "print()\n",
    "print(f\"Dataset: {dataset}:\")\n",
    "print(\"====================\")\n",
    "print(f\"Number of graphs: {len(dataset)}\")\n",
    "print(f\"Number of features: {dataset.num_features}\")\n",
    "print(f\"Number of classes: {dataset.num_classes}\")\n",
    "\n",
    "data = dataset[0]  # Get the first graph object.\n",
    "\n",
    "print()\n",
    "print(data)\n",
    "print(\"=============================================================\")\n",
    "\n",
    "# Gather some statistics about the first graph.\n",
    "print(f\"Number of nodes: {len(data.x)}\")\n",
    "print(f\"Number of edges: {data.num_edges}\")\n",
    "print(f\"Average node degree: {data.num_edges / len(data.x):.2f}\")\n",
    "print(f\"Has isolated nodes: {data.has_isolated_nodes()}\")\n",
    "print(f\"Has self-loops: {data.has_self_loops()}\")\n",
    "print(f\"Is undirected: {data.is_undirected()}\")\n",
    "\n",
    "print(\"=============================================================\")\n",
    "print(f\"Number of orientable Manifolds: {sum(dataset.orientable)}\")\n",
    "print(\n",
    "    f\"Number of non-orientable Manifolds: {len(dataset) - sum(dataset.orientable)}\"\n",
    ")\n",
    "print(\n",
    "    f\"Percentage: {sum(dataset.orientable) / len(dataset):.2f}, {(len(dataset) - sum(dataset.orientable)) / len(dataset):.2f}\"\n",
    ")"
   ]
  },
  {
   "cell_type": "code",
   "execution_count": 57,
   "metadata": {},
   "outputs": [
    {
     "data": {
      "text/plain": [
       "[1, 0, 1]"
      ]
     },
     "execution_count": 57,
     "metadata": {},
     "output_type": "execute_result"
    }
   ],
   "source": [
    "data.betti_numbers"
   ]
  },
  {
   "cell_type": "code",
   "execution_count": 58,
   "metadata": {},
   "outputs": [
    {
     "name": "stdout",
     "output_type": "stream",
     "text": [
      "Number of training graphs: 562\n",
      "Number of test graphs: 150\n"
     ]
    }
   ],
   "source": [
    "dataset = dataset.shuffle()\n",
    "\n",
    "train_dataset = dataset[:-150]\n",
    "test_dataset = dataset[-150:]\n",
    "\n",
    "print(f\"Number of training graphs: {len(train_dataset)}\")\n",
    "print(f\"Number of test graphs: {len(test_dataset)}\")"
   ]
  },
  {
   "cell_type": "code",
   "execution_count": 59,
   "metadata": {},
   "outputs": [
    {
     "data": {
      "text/plain": [
       "tensor([0, 0, 0, 1, 1, 0, 0, 1, 0, 1])"
      ]
     },
     "execution_count": 59,
     "metadata": {},
     "output_type": "execute_result"
    }
   ],
   "source": [
    "train_loader = DataLoader(\n",
    "    train_dataset, batch_size=10\n",
    ")  # ,sampler=ImbalancedSampler(train_dataset))\n",
    "test_loader = DataLoader(test_dataset, batch_size=10)\n",
    "\n",
    "\n",
    "for batch in train_loader:\n",
    "    break\n",
    "\n",
    "batch.y"
   ]
  },
  {
   "cell_type": "code",
   "execution_count": 60,
   "metadata": {},
   "outputs": [
    {
     "name": "stdout",
     "output_type": "stream",
     "text": [
      "tensor([[-4.5819e-02, -3.9331e-02, -4.2941e-02],\n",
      "        [-3.7291e-02, -6.8504e-02, -5.4509e-03],\n",
      "        [-2.7116e-02, -2.7440e-02,  2.0817e-05],\n",
      "        [-3.9345e-02, -6.8072e-02, -8.1359e-02],\n",
      "        [-2.8689e-02, -4.1856e-02, -2.5476e-02],\n",
      "        [-8.1056e-03, -4.5064e-02,  2.9946e-02],\n",
      "        [-3.0017e-02, -4.4348e-02, -1.5939e-02],\n",
      "        [-3.4824e-03, -5.2788e-02, -1.7973e-02],\n",
      "        [-1.5153e-02, -6.5248e-02, -6.7883e-02],\n",
      "        [-6.2596e-02, -4.7315e-02, -9.9255e-03]], grad_fn=<AddmmBackward0>)\n"
     ]
    }
   ],
   "source": [
    "from operator import concat\n",
    "from torch.nn import Linear\n",
    "import torch.nn.functional as F\n",
    "from torch_geometric.nn import GCNConv, TAGConv, TransformerConv\n",
    "from torch_geometric.nn import global_mean_pool\n",
    "\n",
    "\n",
    "class GCN(torch.nn.Module):\n",
    "    def __init__(self, hidden_channels):\n",
    "        super(GCN, self).__init__()\n",
    "        torch.manual_seed(12345)\n",
    "        self.conv1 = GCNConv(dataset.num_node_features, hidden_channels)\n",
    "        self.conv2 = GCNConv(hidden_channels, hidden_channels)\n",
    "        self.conv3 = GCNConv(hidden_channels, hidden_channels)\n",
    "        self.lin = Linear(hidden_channels, 3)\n",
    "\n",
    "    def forward(self, batch):\n",
    "        # 1. Obtain node embeddings\n",
    "        x = self.conv1(batch.x, batch.edge_index)\n",
    "        x = x.relu()\n",
    "        x = self.conv2(x, batch.edge_index)\n",
    "        x = x.relu()\n",
    "        x = self.conv3(x, batch.edge_index)\n",
    "\n",
    "        # 2. Readout layer\n",
    "        x = global_mean_pool(x, batch.batch)  # [batch_size, hidden_channels]\n",
    "\n",
    "        # 3. Apply a final classifier\n",
    "        x = F.dropout(x, p=0.5, training=self.training)\n",
    "        x = self.lin(x)\n",
    "\n",
    "        return x\n",
    "\n",
    "\n",
    "model = GCN(hidden_channels=64)\n",
    "print(model(batch))"
   ]
  },
  {
   "cell_type": "code",
   "execution_count": 61,
   "metadata": {},
   "outputs": [
    {
     "name": "stdout",
     "output_type": "stream",
     "text": [
      "Epoch: 001, Train Acc: 8.8607, Test Acc: 1.9755\n",
      "Epoch: 002, Train Acc: 6.2946, Test Acc: 1.3799\n",
      "Epoch: 003, Train Acc: 7.3765, Test Acc: 1.8066\n",
      "Epoch: 004, Train Acc: 7.7206, Test Acc: 1.9605\n",
      "Epoch: 005, Train Acc: 5.7995, Test Acc: 1.4090\n",
      "Epoch: 006, Train Acc: 6.5125, Test Acc: 1.5056\n",
      "Epoch: 007, Train Acc: 6.4604, Test Acc: 1.6126\n",
      "Epoch: 008, Train Acc: 6.6463, Test Acc: 1.9684\n",
      "Epoch: 009, Train Acc: 4.9964, Test Acc: 1.2566\n",
      "Epoch: 010, Train Acc: 5.0923, Test Acc: 1.2564\n",
      "Epoch: 011, Train Acc: 4.7138, Test Acc: 1.1211\n",
      "Epoch: 012, Train Acc: 5.6023, Test Acc: 1.5135\n",
      "Epoch: 013, Train Acc: 4.6682, Test Acc: 1.1419\n",
      "Epoch: 014, Train Acc: 4.7652, Test Acc: 1.2088\n",
      "Epoch: 015, Train Acc: 5.6908, Test Acc: 1.3544\n",
      "Epoch: 016, Train Acc: 5.1775, Test Acc: 1.2503\n",
      "Epoch: 017, Train Acc: 4.4483, Test Acc: 1.0854\n",
      "Epoch: 018, Train Acc: 4.8420, Test Acc: 1.2799\n",
      "Epoch: 019, Train Acc: 5.3053, Test Acc: 1.5795\n",
      "Epoch: 020, Train Acc: 4.7974, Test Acc: 1.1136\n",
      "Epoch: 021, Train Acc: 4.6213, Test Acc: 1.1321\n",
      "Epoch: 022, Train Acc: 4.9669, Test Acc: 1.1988\n",
      "Epoch: 023, Train Acc: 4.5986, Test Acc: 1.1202\n",
      "Epoch: 024, Train Acc: 4.6800, Test Acc: 1.1055\n",
      "Epoch: 025, Train Acc: 4.9282, Test Acc: 1.2884\n",
      "Epoch: 026, Train Acc: 4.5849, Test Acc: 1.1057\n",
      "Epoch: 027, Train Acc: 4.6809, Test Acc: 1.2394\n",
      "Epoch: 028, Train Acc: 4.6340, Test Acc: 1.2130\n",
      "Epoch: 029, Train Acc: 4.5447, Test Acc: 1.0757\n",
      "Epoch: 030, Train Acc: 4.6329, Test Acc: 1.1134\n",
      "Epoch: 031, Train Acc: 5.0366, Test Acc: 1.2723\n",
      "Epoch: 032, Train Acc: 4.3747, Test Acc: 1.1413\n",
      "Epoch: 033, Train Acc: 4.6353, Test Acc: 1.0597\n",
      "Epoch: 034, Train Acc: 4.6297, Test Acc: 1.2276\n",
      "Epoch: 035, Train Acc: 4.8424, Test Acc: 1.2621\n",
      "Epoch: 036, Train Acc: 5.4038, Test Acc: 1.3956\n",
      "Epoch: 037, Train Acc: 4.7174, Test Acc: 1.1145\n",
      "Epoch: 038, Train Acc: 4.5051, Test Acc: 1.0113\n",
      "Epoch: 039, Train Acc: 4.6326, Test Acc: 1.2423\n"
     ]
    }
   ],
   "source": [
    "model = GCN(hidden_channels=64)\n",
    "optimizer = torch.optim.Adam(model.parameters(), lr=0.01)\n",
    "criterion = torch.nn.MSELoss()\n",
    "\n",
    "\n",
    "def train():\n",
    "    model.train()\n",
    "\n",
    "    for data in train_loader:  # Iterate in batches over the training dataset.\n",
    "        out = model(data)  # Perform a single forward pass.\n",
    "        loss = criterion(\n",
    "            out, torch.tensor(data.betti_numbers, dtype=torch.float)\n",
    "        )  # Compute the loss.\n",
    "        loss.backward()  # Derive gradients.\n",
    "        optimizer.step()  # Update parameters based on gradients.\n",
    "        optimizer.zero_grad()  # Clear gradients.\n",
    "\n",
    "\n",
    "def test(loader):\n",
    "    model.eval()\n",
    "\n",
    "    losses = 0\n",
    "    for data in loader:  # Iterate in batches over the training/test dataset.\n",
    "        out = model(data)\n",
    "\n",
    "        losses += criterion(\n",
    "            out, torch.tensor(data.betti_numbers, dtype=torch.float)\n",
    "        )\n",
    "    return losses\n",
    "\n",
    "\n",
    "for epoch in range(1, 40):\n",
    "    train()\n",
    "    train_acc = test(train_loader)\n",
    "    test_acc = test(test_loader)\n",
    "    print(\n",
    "        f\"Epoch: {epoch:03d}, Train Acc: {train_acc:.4f}, Test Acc: {test_acc:.4f}\"\n",
    "    )"
   ]
  },
  {
   "cell_type": "code",
   "execution_count": 63,
   "metadata": {},
   "outputs": [
    {
     "name": "stdout",
     "output_type": "stream",
     "text": [
      "predicted incorrect 411\n",
      "predicted incorrect 39\n",
      "percentage correct 0.9133333333333333\n"
     ]
    }
   ],
   "source": [
    "model.eval()\n",
    "losses = 0\n",
    "y_hat = []\n",
    "y = []\n",
    "for data in test_loader:  # Iterate in batches over the training/test dataset.\n",
    "    out = model(data)\n",
    "    y_hat.append(out.round().long())\n",
    "    y.append(torch.tensor(data.betti_numbers))\n",
    "\n",
    "y_hat = torch.vstack(y_hat)\n",
    "y = torch.vstack(y)\n",
    "\n",
    "\n",
    "incorrect = torch.count_nonzero(y - y_hat != 0).item()\n",
    "correct = torch.count_nonzero(y - y_hat == 0).item()\n",
    "\n",
    "print(\"predicted correct\", correct)\n",
    "print(\"predicted incorrect\", incorrect)\n",
    "print(\"percentage correct\", correct / (correct + incorrect))"
   ]
  },
  {
   "cell_type": "code",
   "execution_count": null,
   "metadata": {},
   "outputs": [],
   "source": []
  }
 ],
 "metadata": {
  "kernelspec": {
   "display_name": "Python 3",
   "language": "python",
   "name": "python3"
  },
  "language_info": {
   "codemirror_mode": {
    "name": "ipython",
    "version": 3
   },
   "file_extension": ".py",
   "mimetype": "text/x-python",
   "name": "python",
   "nbconvert_exporter": "python",
   "pygments_lexer": "ipython3",
   "version": "3.10.11"
  }
 },
 "nbformat": 4,
 "nbformat_minor": 2
}
