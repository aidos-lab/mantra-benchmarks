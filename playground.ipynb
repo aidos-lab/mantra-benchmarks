{
 "cells": [
  {
   "cell_type": "code",
   "outputs": [
    {
     "data": {
      "text/plain": "tensor(0.7500)"
     },
     "execution_count": 2,
     "metadata": {},
     "output_type": "execute_result"
    }
   ],
   "source": [
    "from torch import tensor\n",
    "from torchmetrics.classification import MulticlassAccuracy\n",
    "\n",
    "target = tensor([2, 1, 0, 0])\n",
    "preds = tensor([2, 1, 0, 1])\n",
    "metric = MulticlassAccuracy(num_classes=3, average=\"micro\")\n",
    "metric(preds, target)"
   ],
   "metadata": {
    "collapsed": false,
    "ExecuteTime": {
     "end_time": "2024-05-06T08:53:40.051269Z",
     "start_time": "2024-05-06T08:53:40.033390Z"
    }
   },
   "id": "c3785d637594cdfa",
   "execution_count": 2
  },
  {
   "cell_type": "code",
   "outputs": [
    {
     "data": {
      "text/plain": "tensor(0.8333)"
     },
     "execution_count": 3,
     "metadata": {},
     "output_type": "execute_result"
    }
   ],
   "source": [
    "metric = MulticlassAccuracy(num_classes=3, average=\"macro\")\n",
    "metric(preds, target)"
   ],
   "metadata": {
    "collapsed": false,
    "ExecuteTime": {
     "end_time": "2024-05-06T08:53:48.469270Z",
     "start_time": "2024-05-06T08:53:48.461617Z"
    }
   },
   "id": "64165a5e0c257ef6",
   "execution_count": 3
  },
  {
   "cell_type": "code",
   "outputs": [],
   "source": [],
   "metadata": {
    "collapsed": false
   },
   "id": "e940f880f237fb69"
  }
 ],
 "metadata": {
  "kernelspec": {
   "display_name": "Python 3",
   "language": "python",
   "name": "python3"
  },
  "language_info": {
   "codemirror_mode": {
    "name": "ipython",
    "version": 2
   },
   "file_extension": ".py",
   "mimetype": "text/x-python",
   "name": "python",
   "nbconvert_exporter": "python",
   "pygments_lexer": "ipython2",
   "version": "2.7.6"
  }
 },
 "nbformat": 4,
 "nbformat_minor": 5
}
